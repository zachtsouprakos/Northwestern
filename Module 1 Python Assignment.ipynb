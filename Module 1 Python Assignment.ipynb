{
 "cells": [
  {
   "cell_type": "markdown",
   "metadata": {},
   "source": [
    "# MSDS 430 Module 1 Python Assignment"
   ]
  },
  {
   "cell_type": "markdown",
   "metadata": {},
   "source": [
    "#### In this assignment you will complete the following exercises and submit your notebook (ipynb file) to Canvas. Your file should include all output, i.e. run each cell and save your file before submitting.  In this course we will use only python 3.0+"
   ]
  },
  {
   "cell_type": "markdown",
   "metadata": {},
   "source": [
    "Anything that starts with a 'hash' symbol is considered to be comments and will not be executed. Run the code in the cell below. The first three lines are defining three variables. The first one is a string and the next two are numbers (one an integer one a floating point numeral). Python defined variables are global and hence can be recalled later on in any other cell."
   ]
  },
  {
   "cell_type": "code",
   "execution_count": 1,
   "metadata": {},
   "outputs": [],
   "source": [
    "#TODO: Run this cell to get started with this assignment.\n",
    "\n",
    "f = 'first' # this is a string, assigned to f\n",
    "x1 = 5      # this is an integer numeric value, assigned to x1\n",
    "x2 = 4.3    # this is a numeric value, assigned x2\n",
    "x3 = True   # this is a boolean value, assigned to x3\n",
    "x4=0        # this is a zero value and not a null value, assigned to x4\n",
    "x5=None     # this is a Null in python and has nothing defined in the named place of x5.\n",
    "\n",
    "# All the above defined variables may be used later on in the Jupyter notebook.\n",
    "# If you want to check the data type of these you can use type(variable) after running this cell.\n"
   ]
  },
  {
   "cell_type": "markdown",
   "metadata": {},
   "source": [
    "Problem 1 (1 pt.): Run the following cell and explain why it does not work. You can use the code cell provided or convert it to a markdown cell to type your response."
   ]
  },
  {
   "cell_type": "code",
   "execution_count": 5,
   "metadata": {
    "scrolled": true
   },
   "outputs": [
    {
     "ename": "SyntaxError",
     "evalue": "Missing parentheses in call to 'print'. Did you mean print('This is my first Python print execution.')? (<ipython-input-5-c542cb438972>, line 1)",
     "output_type": "error",
     "traceback": [
      "\u001b[0;36m  File \u001b[0;32m\"<ipython-input-5-c542cb438972>\"\u001b[0;36m, line \u001b[0;32m1\u001b[0m\n\u001b[0;31m    print 'This is my first Python print execution.'\u001b[0m\n\u001b[0m                                                   ^\u001b[0m\n\u001b[0;31mSyntaxError\u001b[0m\u001b[0;31m:\u001b[0m Missing parentheses in call to 'print'. Did you mean print('This is my first Python print execution.')?\n"
     ]
    }
   ],
   "source": [
    "print 'This is my first Python print execution.'"
   ]
  },
  {
   "cell_type": "code",
   "execution_count": null,
   "metadata": {},
   "outputs": [],
   "source": [
    "# The above did not run due to a lack of parenthesis after the print function. \n",
    "# The statement 'This is my first Python print execution.' should be within the parenthesis\n",
    "# Once fixed, the iterpreter will understand and will execute as expected"
   ]
  },
  {
   "cell_type": "code",
   "execution_count": 4,
   "metadata": {},
   "outputs": [
    {
     "name": "stdout",
     "output_type": "stream",
     "text": [
      "This is my first Python print execution.\n"
     ]
    }
   ],
   "source": [
    "#TODO: Fix the print statement and rerun.\n",
    "print('This is my first Python print execution.')"
   ]
  },
  {
   "cell_type": "markdown",
   "metadata": {},
   "source": [
    "In this next problem, we see `.format` included in the print statement, which is a print object. Objects are methods applicable to a parent function, which we'll learn more about later in the course. For now you can find more details about powerful print options at: https://realpython.com/python-f-strings/. Note that you are using the variables f, x1, x2 defined(executed) from the above cell."
   ]
  },
  {
   "cell_type": "markdown",
   "metadata": {},
   "source": [
    "Problem 2 (1 pt.): Execute the print command below as is, and explain what `{}` has achieved in the output."
   ]
  },
  {
   "cell_type": "code",
   "execution_count": 9,
   "metadata": {},
   "outputs": [
    {
     "name": "stdout",
     "output_type": "stream",
     "text": [
      "This is my first! print execution using format value stored in a variable, and it is None!\n"
     ]
    }
   ],
   "source": [
    "print(\"This is my {}! print execution using format value stored in a variable, and it is {}!\".format(f,x5))\n",
    "\n",
    "# Feel free to see what happens when x2 is replaced by say, x5."
   ]
  },
  {
   "cell_type": "code",
   "execution_count": 4,
   "metadata": {},
   "outputs": [],
   "source": [
    "# The curlybraces act as a placeholder for each variable or value that is called in the .format object\n",
    "# The first variable in the format object, f, will relate to the first set of the curlybraces\n",
    "# The second variable in the format object, x5, will relate to the second set of the curlybraces"
   ]
  },
  {
   "cell_type": "markdown",
   "metadata": {},
   "source": [
    "Problem 3 (1 pts.): What is the keyboard command to insert a cell below and move to that cell? What is the keyboard command for executing the cell? Note that all keyboard commands are decipherable by clicking on the keyboard icon below 'help'."
   ]
  },
  {
   "cell_type": "markdown",
   "metadata": {},
   "source": [
    "1. What is the keyboard command to insert a cell below and move to that cell?\n",
    "    Being out of edit mode, and pressing B. You can use the arrow keys to navigate to the cell and press enter to start editing\n",
    "2. What is the keyboard command for executing the cell?\n",
    "    On my Mac, I use Shift + Enter to execute a cell"
   ]
  },
  {
   "cell_type": "markdown",
   "metadata": {},
   "source": [
    "Problem 4 (1 pts.): List the top five keyboard commands you think will be useful to speed up your notebook execution."
   ]
  },
  {
   "cell_type": "markdown",
   "metadata": {},
   "source": [
    "1) B: insert cell below\n",
    "2) A: insert cell above\n",
    "3) DD: delete current cell\n",
    "4) Shift + Enter: Execute cell\n",
    "5) X: Cut cell"
   ]
  },
  {
   "cell_type": "markdown",
   "metadata": {},
   "source": [
    "Problem 5 (1 pts.): Explain how will you get help on any Python command from within a Jupyter notebook? "
   ]
  },
  {
   "cell_type": "markdown",
   "metadata": {},
   "source": [
    "1) I will use shift + tab for documentation help regarding python objects\n",
    "2) I will  leverage the documentation in the help drop down\n",
    "3) I will prepend a library, methods, or variables with a '?'for quick reference/documentation"
   ]
  },
  {
   "cell_type": "markdown",
   "metadata": {},
   "source": [
    "Problem 6 (1 pts.): What are the top 5 magic commands that you feel will be useful to interact with your operating system or Python execution? For a large list of these, visit: http://damontallen.github.io/IPython-quick-ref-sheets/svg/Magic_only.svg"
   ]
  },
  {
   "cell_type": "markdown",
   "metadata": {},
   "source": [
    "1) %alias\n",
    "2) %lsmagic\n",
    "3) %dhist\n",
    "4) %pastebin\n",
    "5) %matplotlib"
   ]
  },
  {
   "cell_type": "markdown",
   "metadata": {},
   "source": [
    "There are several ways to insert a screenshot in a Jupyter notebook, some use a markdown cell and others use a code cell. Here's a short video explaining some of these methods: https://www.youtube.com/watch?v=xlD8FIM5biA"
   ]
  },
  {
   "cell_type": "markdown",
   "metadata": {},
   "source": [
    "Problem 7 (1 pts.): From the command prompt on your computer (also called the terminal on a Mac), find the product of any two numbers. Take a screenshot and insert the image below."
   ]
  },
  {
   "cell_type": "markdown",
   "metadata": {},
   "source": [
    "![title](product.png)"
   ]
  },
  {
   "cell_type": "markdown",
   "metadata": {},
   "source": [
    "Problem 9 (1 pts.): Open Anaconda Navigator on your computer and take a screenshot. Insert your screenshot in the cell below."
   ]
  },
  {
   "cell_type": "markdown",
   "metadata": {},
   "source": [
    "![title](anaconda.png)"
   ]
  },
  {
   "cell_type": "markdown",
   "metadata": {},
   "source": [
    "Problem 10 (1 pts.): From Anaconda, open Spyder. In the iPython console (lower right), find the sum of any two numbers and take a screenshot. Insert your screenshot in the cell below."
   ]
  },
  {
   "cell_type": "markdown",
   "metadata": {},
   "source": [
    "![title](spyderSum.png)"
   ]
  },
  {
   "cell_type": "code",
   "execution_count": null,
   "metadata": {},
   "outputs": [],
   "source": [
    "# I found the sum using variables and also inputted '5+5' in the console and ran, just wanted to clarify"
   ]
  }
 ],
 "metadata": {
  "kernelspec": {
   "display_name": "Python 3",
   "language": "python",
   "name": "python3"
  },
  "language_info": {
   "codemirror_mode": {
    "name": "ipython",
    "version": 3
   },
   "file_extension": ".py",
   "mimetype": "text/x-python",
   "name": "python",
   "nbconvert_exporter": "python",
   "pygments_lexer": "ipython3",
   "version": "3.6.8"
  }
 },
 "nbformat": 4,
 "nbformat_minor": 2
}
