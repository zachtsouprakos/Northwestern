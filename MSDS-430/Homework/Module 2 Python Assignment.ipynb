{
 "cells": [
  {
   "cell_type": "markdown",
   "metadata": {},
   "source": [
    "# MSDS 430 Module 2 Python Assignment"
   ]
  },
  {
   "cell_type": "markdown",
   "metadata": {},
   "source": [
    "#### In this assignment you will complete the following exercises and submit your notebook (ipynb file) to Canvas. Your file should include all output, i.e. run each cell and save your file before submitting."
   ]
  },
  {
   "cell_type": "markdown",
   "metadata": {},
   "source": [
    "<font color=green> This week we are starting to learn how to write short programs in Python beyond \"Hello World!\" We're learning about different data types such as integers, floats, strings, and Boolean types. Each of these data types serves different purposes. In this assignment, we start working with these data types and get our feet wet with conditional statements. Conditionals are quite useful in programming and we will work with them from here on out. We will get some good practice with conditional statements in this assignment.  </font>"
   ]
  },
  {
   "cell_type": "markdown",
   "metadata": {},
   "source": [
    "Problem 1 (2 pts.): Convert the sum of 6.5 and 1.3 to both an integer and a string."
   ]
  },
  {
   "cell_type": "code",
   "execution_count": 1,
   "metadata": {},
   "outputs": [
    {
     "data": {
      "text/plain": [
       "7"
      ]
     },
     "execution_count": 1,
     "metadata": {},
     "output_type": "execute_result"
    }
   ],
   "source": [
    "# Printing the sum of 6.5 and 1.3 as an integer\n",
    "x = 6.5 + 1.3\n",
    "int(x)"
   ]
  },
  {
   "cell_type": "code",
   "execution_count": 2,
   "metadata": {},
   "outputs": [
    {
     "name": "stdout",
     "output_type": "stream",
     "text": [
      "7.8\n"
     ]
    }
   ],
   "source": [
    "# Printing the sum of 6.5 and 1.3 as a string\n",
    "x = 6.5 + 1.3\n",
    "print(str(x))"
   ]
  },
  {
   "cell_type": "markdown",
   "metadata": {},
   "source": [
    "Problem 2 (2 pts.): Use **all five** mathematical operators (`+` `-` `*` `/` `**`) in a **single expression** to produce the number 3."
   ]
  },
  {
   "cell_type": "code",
   "execution_count": 3,
   "metadata": {},
   "outputs": [
    {
     "data": {
      "text/plain": [
       "3.0"
      ]
     },
     "execution_count": 3,
     "metadata": {},
     "output_type": "execute_result"
    }
   ],
   "source": [
    "y = (10-9)*(10+20)**2 / 300\n",
    "float(y)"
   ]
  },
  {
   "cell_type": "markdown",
   "metadata": {},
   "source": [
    "Problem 3 (4 pts.): Write a program that asks a user for two numbers, then prints two sentences displaying the sum and product of those numbers,respectively. More specifically, the program should display the prompt `Enter a number: ` and then wait for the user's input. After the user enters his/her input followed by pressing the `enter` key, the program prompts the user to enter the second number in a similar fashion. <br>  <br>Here's a sample of what this should look like to the user:\n",
    "\n",
    "`Enter any number: `5<br>\n",
    "`Enter a second number: `123 <br> \n",
    "`The sum of 5 and 123 is 128.`<br>\n",
    "`The product of 5 and 123 is 615.`"
   ]
  },
  {
   "cell_type": "code",
   "execution_count": 19,
   "metadata": {},
   "outputs": [
    {
     "name": "stdout",
     "output_type": "stream",
     "text": [
      "Enter any number: 5\n",
      "Enter a second number5\n",
      "The sum of 5 and 5 is 10\n",
      "The product of 5 and 5 is 25\n"
     ]
    }
   ],
   "source": [
    "def letsDoMath():\n",
    "    x = int(input('Enter any number: '))\n",
    "    y = int(input('Enter a second number'))\n",
    "    print('The sum of ' + str(x) + ' and ' + str(y) + ' is ' + str((x+y)))\n",
    "    print('The product of ' + str(x) + ' and ' + str(y) + ' is ' + str((x*y)))\n",
    "    \n",
    "letsDoMath()"
   ]
  },
  {
   "cell_type": "markdown",
   "metadata": {},
   "source": [
    "Problem 4 (2 pts.): Write a program that asks a user to enter any number then returns whether the number is a multiple of 5 or not. Here's a sample of what this should look like to the user:\n",
    "\n",
    "`Enter any number: `319<br>\n",
    "`319 is not a multiple of 5.`"
   ]
  },
  {
   "cell_type": "code",
   "execution_count": 35,
   "metadata": {},
   "outputs": [
    {
     "name": "stdout",
     "output_type": "stream",
     "text": [
      "Enter any number: 555\n",
      "The number 555 is divisible by 5\n"
     ]
    }
   ],
   "source": [
    "def letsDoMath():\n",
    "    x = int(input('Enter any number: '))\n",
    "    if x%5 == 0:\n",
    "        print('The number ' + str(x) + ' is divisible by 5')\n",
    "    else:\n",
    "        print(str(x) + ' is not a multiple of 5')\n",
    "    \n",
    "    \n",
    "letsDoMath()        "
   ]
  },
  {
   "cell_type": "markdown",
   "metadata": {},
   "source": [
    "Problem 5 (2 pts.): Write a program to assign Boolean values to variables `P` and `Q` and evaluate `not P or Q`. Choose the appropriate truth values for `P` and `Q` so that the expression evaluates to `True`.\n"
   ]
  },
  {
   "cell_type": "code",
   "execution_count": 14,
   "metadata": {
    "scrolled": true
   },
   "outputs": [
    {
     "name": "stdout",
     "output_type": "stream",
     "text": [
      "True\n",
      "True\n",
      "True\n"
     ]
    }
   ],
   "source": [
    " # Option 1\n",
    "P = False\n",
    "Q = True\n",
    "print(not P or Q)\n",
    "\n",
    "# Option 2\n",
    "P = False\n",
    "Q = False\n",
    "print(not P or Q)\n",
    "\n",
    "# Option 3:\n",
    "P = True\n",
    "Q = True\n",
    "print(not P or Q)"
   ]
  },
  {
   "cell_type": "markdown",
   "metadata": {},
   "source": [
    "Problem 6 (6 pts.): Jake is looking for a job but has some conditions. He would love a job in Hawaii and would accept it if it pays more than 40,000 per year. He does not like New York but would take a job if it pays more than 100,000 per year. He would work anywhere else if it pays more than 60,000. Write a program that prompts the user to enter two input values, `location` and `pay`, and returns \n",
    "\n",
    "(1) \"I'll take it!\" if the user entered Hawaii and more than 40000, New York and more than 100000, or anywhere else with pay more than 60000, for the `location` and `pay`, respectively, or  <br> \n",
    "(2) \"No way.\" if the user enters Hawaii and less than 40000 or New York and less than 100000, for the `location` and `pay`, respectively, or <br> \n",
    "(3) \"No thanks, I can find something better.\" if the `location` is anywhere else and the `pay` is less than 60000."
   ]
  },
  {
   "cell_type": "code",
   "execution_count": 15,
   "metadata": {},
   "outputs": [
    {
     "name": "stdout",
     "output_type": "stream",
     "text": [
      "Where do you want to work: Alaska \n",
      "How much do you want to earn: 61000\n"
     ]
    },
    {
     "data": {
      "text/plain": [
       "\"I'll take it!\""
      ]
     },
     "execution_count": 15,
     "metadata": {},
     "output_type": "execute_result"
    }
   ],
   "source": [
    "def letsFindWork(location, pay):\n",
    "    \n",
    "    if location.lower() == 'hawaii' and pay >= 40000:\n",
    "        print('I\\'ll take it!')\n",
    "    elif location.lower() == 'hawaii' and pay < 40000:\n",
    "        print('No way.')\n",
    "    elif location.lower() == 'new york' and pay >= 100000:\n",
    "        print('I\\'ll take it!')\n",
    "    elif location.lower() == 'new york' and pay < 100000:\n",
    "        print('No way.')\n",
    "    else:\n",
    "        if pay < 60000:\n",
    "            return \"No thanks, I can find something better.\"\n",
    "        else:\n",
    "            return \"I'll take it!\"\n",
    "\n",
    "location = input('Where do you want to work: ')\n",
    "pay = int(input('How much do you want to earn: '))        \n",
    "letsFindWork(location, pay)"
   ]
  }
 ],
 "metadata": {
  "kernelspec": {
   "display_name": "Python 3",
   "language": "python",
   "name": "python3"
  },
  "language_info": {
   "codemirror_mode": {
    "name": "ipython",
    "version": 3
   },
   "file_extension": ".py",
   "mimetype": "text/x-python",
   "name": "python",
   "nbconvert_exporter": "python",
   "pygments_lexer": "ipython3",
   "version": "3.6.8"
  }
 },
 "nbformat": 4,
 "nbformat_minor": 2
}
