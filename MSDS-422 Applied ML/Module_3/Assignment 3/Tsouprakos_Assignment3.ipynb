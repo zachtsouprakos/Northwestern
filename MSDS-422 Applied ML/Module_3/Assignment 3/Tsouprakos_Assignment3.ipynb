{
 "cells": [
  {
   "cell_type": "code",
   "execution_count": 1,
   "metadata": {},
   "outputs": [],
   "source": [
    "import math\n",
    "import pandas as pd\n",
    "import numpy as np\n",
    "from operator import itemgetter\n",
    "import re\n",
    "\n",
    "\n",
    "import matplotlib.pyplot as plt\n",
    "import seaborn as sns\n",
    "\n",
    "\n",
    "from sklearn.model_selection import train_test_split\n",
    "import sklearn.metrics as metrics\n",
    "\n",
    "\n",
    "from sklearn import tree\n",
    "from sklearn.tree import _tree\n",
    "\n",
    "from sklearn.ensemble import RandomForestRegressor \n",
    "from sklearn.ensemble import RandomForestClassifier \n",
    "\n",
    "from sklearn.ensemble import GradientBoostingRegressor \n",
    "from sklearn.ensemble import GradientBoostingClassifier\n",
    "\n",
    "from sklearn.linear_model import LinearRegression\n",
    "from sklearn.linear_model import LogisticRegression\n",
    "from sklearn.metrics import classification_report, confusion_matrix\n",
    "\n",
    "from mlxtend.feature_selection import SequentialFeatureSelector as SFS\n",
    "from mlxtend.plotting import plot_sequential_feature_selection as plot_sfs\n",
    "\n",
    "import warnings\n",
    "warnings.filterwarnings(\"ignore\")"
   ]
  },
  {
   "cell_type": "code",
   "execution_count": 2,
   "metadata": {},
   "outputs": [],
   "source": [
    "INFILE = '/Users/zachtsouprakos/documents/msds/msds-422/HMEQ_Loss.csv'\n",
    "\n",
    "TARGET_F = 'TARGET_BAD_FLAG'\n",
    "TARGET_A = 'TARGET_LOSS_AMT'"
   ]
  },
  {
   "cell_type": "code",
   "execution_count": 3,
   "metadata": {},
   "outputs": [
    {
     "data": {
      "text/plain": [
       "5960"
      ]
     },
     "execution_count": 3,
     "metadata": {},
     "output_type": "execute_result"
    }
   ],
   "source": [
    "df = pd.read_csv(INFILE)\n",
    "len(df)"
   ]
  },
  {
   "cell_type": "code",
   "execution_count": 4,
   "metadata": {},
   "outputs": [
    {
     "name": "stdout",
     "output_type": "stream",
     "text": [
      "Object list:  ['REASON', 'JOB']\n",
      "Number liste:  ['LOAN', 'MORTDUE', 'VALUE', 'YOJ', 'DEROG', 'DELINQ', 'CLAGE', 'NINQ', 'CLNO', 'DEBTINC']\n"
     ]
    }
   ],
   "source": [
    "# Lets put all objects and integer variables in their own lists so we can use them later\n",
    "\n",
    "objList = []\n",
    "numList = []\n",
    "dt = df.dtypes\n",
    "\n",
    "for i in dt.index:\n",
    "    if i in ([TARGET_F, TARGET_A]) : continue\n",
    "    if dt[i] in (['object']) : objList.append(i)\n",
    "    if dt[i] in (['float64','int64']) : numList.append(i)\n",
    "print('Object list: ',objList)\n",
    "print('Number liste: ', numList)"
   ]
  },
  {
   "cell_type": "code",
   "execution_count": 5,
   "metadata": {},
   "outputs": [
    {
     "data": {
      "text/plain": [
       "TARGET_BAD_FLAG\n",
       "0    4771\n",
       "1    1189\n",
       "Name: TARGET_BAD_FLAG, dtype: int64"
      ]
     },
     "execution_count": 5,
     "metadata": {},
     "output_type": "execute_result"
    }
   ],
   "source": [
    "# Number of loans that did (1) and did not (0) default\n",
    "df.groupby(TARGET_F)[TARGET_F].count()"
   ]
  },
  {
   "cell_type": "code",
   "execution_count": 6,
   "metadata": {},
   "outputs": [],
   "source": [
    "# # visualize the above\n",
    "# for i in objList :\n",
    "#     x = df[ i ].value_counts(dropna=False)\n",
    "#     #print( x )\n",
    "#     theLabels = x.axes[0].tolist()\n",
    "#     #print( theLabels )\n",
    "#     theSlices = list(x)\n",
    "#     #print( theSlices ) \n",
    "#     plt.pie( theSlices,\n",
    "#             labels=theLabels,\n",
    "#             startangle = 90,\n",
    "#             shadow=True,\n",
    "#             autopct=\"%1.1f%%\")\n",
    "#     plt.title(\"Pie Chart: \" + i)\n",
    "#     plt.show()"
   ]
  },
  {
   "cell_type": "code",
   "execution_count": 7,
   "metadata": {},
   "outputs": [
    {
     "name": "stdout",
     "output_type": "stream",
     "text": [
      "For the object variable REASON there are  252  missing values\n",
      "For the object variable JOB there are  279  missing values\n",
      "-------------------------\n",
      "For the numerical variable LOAN there are  0  missing values\n",
      "For the numerical variable MORTDUE there are  518  missing values\n",
      "For the numerical variable VALUE there are  112  missing values\n",
      "For the numerical variable YOJ there are  515  missing values\n",
      "For the numerical variable DEROG there are  708  missing values\n",
      "For the numerical variable DELINQ there are  580  missing values\n",
      "For the numerical variable CLAGE there are  308  missing values\n",
      "For the numerical variable NINQ there are  510  missing values\n",
      "For the numerical variable CLNO there are  222  missing values\n",
      "For the numerical variable DEBTINC there are  1267  missing values\n"
     ]
    }
   ],
   "source": [
    "# Lets see if any of the categorical and numberical variables are missing\n",
    "for i in objList:\n",
    "    print('For the object variable', i, 'there are ', df[i].isna().sum(), ' missing values')\n",
    "\n",
    "print(\"-------------------------\")\n",
    "    \n",
    "for i in numList:\n",
    "    print('For the numerical variable', i, 'there are ', df[i].isna().sum(), ' missing values')"
   ]
  },
  {
   "cell_type": "code",
   "execution_count": 8,
   "metadata": {},
   "outputs": [
    {
     "name": "stdout",
     "output_type": "stream",
     "text": [
      "IMP_REASON\n",
      "variable REASON  has this many missing 252\n",
      "variable IMP_REASON  has this many missing 0\n",
      "IMP_REASON\n",
      "DebtCon    3928\n",
      "HomeImp    1780\n",
      "MISSING     252\n",
      "Name: IMP_REASON, dtype: int64\n",
      "-----------------------\n",
      "IMP_JOB\n",
      "variable JOB  has this many missing 279\n",
      "variable IMP_JOB  has this many missing 0\n",
      "IMP_JOB\n",
      "MISSING     279\n",
      "Mgr         767\n",
      "Office      948\n",
      "Other      2388\n",
      "ProfExe    1276\n",
      "Sales       109\n",
      "Self        193\n",
      "Name: IMP_JOB, dtype: int64\n",
      "-----------------------\n"
     ]
    }
   ],
   "source": [
    "# Create new fields to represent the existing categorical fields\n",
    "# Replace each missing value with 'MISSING'\n",
    "for i in objList :\n",
    "    if df[i].isna().sum() == 0 : continue\n",
    "    NAME = \"IMP_\"+i\n",
    "    print( NAME ) \n",
    "    df[NAME] = df[i]\n",
    "    df[NAME] = df[NAME].fillna(\"MISSING\")\n",
    "    print( \"variable\",i,\" has this many missing\", df[i].isna().sum() )\n",
    "    print( \"variable\",NAME,\" has this many missing\", df[NAME].isna().sum() )\n",
    "    g = df.groupby( NAME )\n",
    "    print( g[NAME].count() )\n",
    "    print('-----------------------')"
   ]
  },
  {
   "cell_type": "code",
   "execution_count": 9,
   "metadata": {},
   "outputs": [
    {
     "name": "stdout",
     "output_type": "stream",
     "text": [
      "MORTDUE\n",
      "VALUE\n",
      "YOJ\n",
      "DEROG\n",
      "DELINQ\n",
      "CLAGE\n",
      "NINQ\n",
      "CLNO\n",
      "DEBTINC\n"
     ]
    }
   ],
   "source": [
    "# Create two types of fields. One field to represent whether a numerical field is missing\n",
    "# Second field type, copy the existing numerical fields and replace them with the median of the field\n",
    "for i in numList:\n",
    "    if df[i].isna().sum() == 0 : continue\n",
    "    FLAG = 'M_' + i\n",
    "    IMP = 'IMP_' + i\n",
    "    print(i)\n",
    "    df[FLAG] = df[i].isna() + 0 # create fields that indicate whether the value was missing\n",
    "    df[IMP] = df[i]\n",
    "    df.loc[df[IMP].isna(), IMP] = df[i].median() # replace null values with median for of the column"
   ]
  },
  {
   "cell_type": "code",
   "execution_count": 10,
   "metadata": {},
   "outputs": [],
   "source": [
    "# For categorical values, create fields that will represent each value in a numerical fashion\n",
    "for i in objList :\n",
    "    thePrefix = \"z_\" + i\n",
    "    y = pd.get_dummies( df[i], prefix=thePrefix, drop_first=False )\n",
    "    #print(y)  \n",
    "    df = pd.concat( [df, y], axis=1 )"
   ]
  },
  {
   "cell_type": "code",
   "execution_count": 11,
   "metadata": {},
   "outputs": [],
   "source": [
    "example = df.head(20).T\n",
    "#example"
   ]
  },
  {
   "cell_type": "markdown",
   "metadata": {},
   "source": [
    "# Assignment 3 begins here: Regression Based Models\n",
    "* Clean up data by removing outliers\n",
    "* Split Data Sets\n",
    "* Create logistic regression models by usings all variables, and then variables from decision tree, random forest, gradient boosting, and stepwise selection models\n",
    "* For each model, calculate accuracy of the model, ROC Curves, AUC, display ROC and AUC graphically, and print o=ut coefficients for one of the models"
   ]
  },
  {
   "cell_type": "code",
   "execution_count": 12,
   "metadata": {},
   "outputs": [
    {
     "name": "stdout",
     "output_type": "stream",
     "text": [
      "LOAN\n",
      "MORTDUE\n",
      "VALUE\n",
      "YOJ\n",
      "DEROG\n",
      "DELINQ\n",
      "CLAGE\n",
      "NINQ\n",
      "CLNO\n",
      "DEBTINC\n",
      "IMP_MORTDUE\n",
      "IMP_VALUE\n",
      "IMP_YOJ\n",
      "IMP_DEROG\n",
      "IMP_DELINQ\n",
      "IMP_CLAGE\n",
      "IMP_NINQ\n",
      "IMP_CLNO\n",
      "IMP_DEBTINC\n"
     ]
    }
   ],
   "source": [
    "dt = df.dtypes\n",
    "numList = []\n",
    "for i in dt.index:\n",
    "    if i in ([TARGET_A, TARGET_F]) : continue\n",
    "    if re.search('M_.', i) : continue\n",
    "    if dt[i] in (['float64', 'int64']) : numList.append(i)\n",
    "\n",
    "for i in numList:\n",
    "    print(i)"
   ]
  },
  {
   "cell_type": "code",
   "execution_count": 13,
   "metadata": {},
   "outputs": [],
   "source": [
    "# Lets first remove any outliers\n",
    "# If a value is more than 3x the standard deviation of the mean, then we will drop it because it is an extreme outlier\n",
    "\n",
    "for i in numList :\n",
    "    theMean = df[i].mean()\n",
    "    theSD = df[i].std()\n",
    "    theMax = df[i].max()\n",
    "    theCutoff = round( theMean + 3*theSD )\n",
    "    if theMax < theCutoff : continue\n",
    "    FLAG = \"O_\" + i\n",
    "    TRUNC = \"TRUNC_\" + i\n",
    "    df[ FLAG ] = ( df[i] > theCutoff )+ 0\n",
    "    df[ TRUNC ] = df[ i ]\n",
    "    df.loc[ df[TRUNC] > theCutoff, TRUNC ] = theCutoff\n",
    "    df = df.drop( i, axis=1 )"
   ]
  },
  {
   "cell_type": "code",
   "execution_count": 14,
   "metadata": {},
   "outputs": [
    {
     "name": "stdout",
     "output_type": "stream",
     "text": [
      "O_LOAN\n",
      "TRUNC_LOAN\n",
      "O_MORTDUE\n",
      "TRUNC_MORTDUE\n",
      "O_VALUE\n",
      "TRUNC_VALUE\n",
      "O_YOJ\n",
      "TRUNC_YOJ\n",
      "O_DEROG\n",
      "TRUNC_DEROG\n",
      "O_DELINQ\n",
      "TRUNC_DELINQ\n",
      "O_CLAGE\n",
      "TRUNC_CLAGE\n",
      "O_NINQ\n",
      "TRUNC_NINQ\n",
      "O_CLNO\n",
      "TRUNC_CLNO\n",
      "O_DEBTINC\n",
      "TRUNC_DEBTINC\n",
      "O_IMP_MORTDUE\n",
      "TRUNC_IMP_MORTDUE\n",
      "O_IMP_VALUE\n",
      "TRUNC_IMP_VALUE\n",
      "O_IMP_YOJ\n",
      "TRUNC_IMP_YOJ\n",
      "O_IMP_DEROG\n",
      "TRUNC_IMP_DEROG\n",
      "O_IMP_DELINQ\n",
      "TRUNC_IMP_DELINQ\n",
      "O_IMP_CLAGE\n",
      "TRUNC_IMP_CLAGE\n",
      "O_IMP_NINQ\n",
      "TRUNC_IMP_NINQ\n",
      "O_IMP_CLNO\n",
      "TRUNC_IMP_CLNO\n",
      "O_IMP_DEBTINC\n",
      "TRUNC_IMP_DEBTINC\n"
     ]
    }
   ],
   "source": [
    "dt = df.dtypes\n",
    "numList = []\n",
    "for i in dt.index:\n",
    "    if i in ([TARGET_A, TARGET_F]) : continue\n",
    "    if re.search('M_.', i) : continue\n",
    "    if dt[i] in (['float64', 'int64']) : numList.append(i)\n",
    "\n",
    "for i in numList:\n",
    "    print(i)"
   ]
  },
  {
   "cell_type": "code",
   "execution_count": 15,
   "metadata": {},
   "outputs": [
    {
     "data": {
      "text/plain": [
       "['REASON', 'JOB', 'IMP_REASON', 'IMP_JOB']"
      ]
     },
     "execution_count": 15,
     "metadata": {},
     "output_type": "execute_result"
    }
   ],
   "source": [
    "dt = df.dtypes\n",
    "objList = []\n",
    "for i in dt.index:\n",
    "    if i in ([TARGET_A, TARGET_F]) : continue\n",
    "    if dt[i] in (['object']) : objList.append(i)\n",
    "\n",
    "objList"
   ]
  },
  {
   "cell_type": "code",
   "execution_count": 16,
   "metadata": {},
   "outputs": [],
   "source": [
    "X = df.copy()\n",
    "X = X.drop([TARGET_A, TARGET_F, 'REASON', 'JOB', 'IMP_REASON', 'IMP_JOB', 'M_MORTDUE', 'M_VALUE', 'M_YOJ', 'M_DEROG', 'M_DELINQ', 'M_CLAGE', 'M_NINQ', 'M_CLNO', 'M_DEBTINC'], axis = 1)"
   ]
  },
  {
   "cell_type": "code",
   "execution_count": 17,
   "metadata": {},
   "outputs": [
    {
     "name": "stdout",
     "output_type": "stream",
     "text": [
      "Dropping:  TRUNC_MORTDUE\n",
      "Dropping:  TRUNC_VALUE\n",
      "Dropping:  TRUNC_YOJ\n",
      "Dropping:  TRUNC_DEROG\n",
      "Dropping:  TRUNC_DELINQ\n",
      "Dropping:  TRUNC_CLAGE\n",
      "Dropping:  TRUNC_NINQ\n",
      "Dropping:  TRUNC_CLNO\n",
      "Dropping:  TRUNC_DEBTINC\n"
     ]
    }
   ],
   "source": [
    "# We also need to drop the original columns that were truncated and had nulls\n",
    "# This is because I did not drop the original values previously\n",
    "\n",
    "for i in X.columns:\n",
    "    if X[i].isna().sum() > 0 : print('Dropping: ', i)\n",
    "    if X[i].isna().sum() > 0 : X = X.drop(i, axis = 1)\n",
    "    "
   ]
  },
  {
   "cell_type": "code",
   "execution_count": 18,
   "metadata": {},
   "outputs": [
    {
     "name": "stdout",
     "output_type": "stream",
     "text": [
      "[]\n"
     ]
    }
   ],
   "source": [
    "for i in X.columns:\n",
    "    if X[i].isna().sum() > 0 : print(i)\n",
    "\n",
    "dt = X.dtypes\n",
    "check = []\n",
    "for i in dt.index:\n",
    "    if i in ([TARGET_A, TARGET_F]) : continue\n",
    "    if re.search('M_.', i) : check.append(i)\n",
    "\n",
    "print(check)"
   ]
  },
  {
   "cell_type": "code",
   "execution_count": 19,
   "metadata": {},
   "outputs": [],
   "source": [
    "Y = df[[TARGET_A, TARGET_F]]"
   ]
  },
  {
   "cell_type": "code",
   "execution_count": 20,
   "metadata": {},
   "outputs": [],
   "source": [
    "# Create training data set (80%) and test data set (20%) for both the predictors and target variables\n",
    "X_train, X_test, Y_train, Y_test = train_test_split(X,Y, train_size = 0.8, test_size = 0.2, random_state = 1)"
   ]
  },
  {
   "cell_type": "code",
   "execution_count": 21,
   "metadata": {},
   "outputs": [],
   "source": [
    "# lets first identify the users who have a default amount which we can use to drive predictions\n",
    "F = ~ Y_train[TARGET_A].isna() # Users who have a loan amount will identify as 'True'\n",
    "W_train = X_train[F] #select only the true people and put it into w_train\n",
    "Z_train = Y_train[F]\n",
    "F1 = ~ Y_test[TARGET_A].isna()\n",
    "W_test = X_test[F1] #select only the true people and put it into w_train\n",
    "Z_test = Y_test[F1]"
   ]
  },
  {
   "cell_type": "markdown",
   "metadata": {},
   "source": [
    "# First we will need to run the decision tree, RF, & GB Models to provide bench marks, as well as receive variables selected"
   ]
  },
  {
   "cell_type": "code",
   "execution_count": 22,
   "metadata": {},
   "outputs": [],
   "source": [
    "# Lets leverage functions to do the work for us\n",
    "\n",
    "# Probability scores\n",
    "def getProbAccuracyScores( NAME, MODEL, X, Y ) :\n",
    "    pred = MODEL.predict( X )\n",
    "    probs = MODEL.predict_proba( X )\n",
    "    acc_score = metrics.accuracy_score(Y, pred)\n",
    "    p1 = probs[:,1]\n",
    "    fpr, tpr, threshold = metrics.roc_curve( Y, p1)\n",
    "    auc = metrics.auc(fpr,tpr)\n",
    "    return [NAME, acc_score, fpr, tpr, auc]\n",
    "\n",
    "# Plotting the ROC CURVE\n",
    "def print_ROC_Curve( TITLE, LIST ) :\n",
    "    fig = plt.figure(figsize=(6,4))\n",
    "    plt.title( TITLE )\n",
    "    for theResults in LIST :\n",
    "        NAME = theResults[0]\n",
    "        fpr = theResults[2]\n",
    "        tpr = theResults[3]\n",
    "        auc = theResults[4]\n",
    "        theLabel = \"AUC \" + NAME + ' %0.2f' % auc\n",
    "        plt.plot(fpr, tpr, label = theLabel )\n",
    "    plt.legend(loc = 'lower right')\n",
    "    plt.plot([0, 1], [0, 1],'r--')\n",
    "    plt.xlim([0, 1])\n",
    "    plt.ylim([0, 1])\n",
    "    plt.ylabel('True Positive Rate')\n",
    "    plt.xlabel('False Positive Rate')\n",
    "    plt.show()\n",
    "\n",
    "# Accuracy Metrics\n",
    "def print_Accuracy( TITLE, LIST ) :\n",
    "    print( TITLE )\n",
    "    print( \"======\" )\n",
    "    for theResults in LIST :\n",
    "        NAME = theResults[0]\n",
    "        ACC = theResults[1]\n",
    "        print( NAME, \" = \", ACC )\n",
    "    print( \"------\\n\\n\" )\n",
    "\n",
    "# Accuracy for default loan amount\n",
    "def getAmtAccuracyScores( NAME, MODEL, X, Y ) :\n",
    "    pred = MODEL.predict( X )\n",
    "    MEAN = Y.mean()\n",
    "    RMSE = math.sqrt( metrics.mean_squared_error( Y, pred))\n",
    "    return [NAME, RMSE, MEAN]\n",
    "\n",
    "# Get tree variables\n",
    "def getTreeVars( TREE, varNames ) :\n",
    "    tree_ = TREE.tree_\n",
    "    varName = [ varNames[i] if i != _tree.TREE_UNDEFINED else \"undefined!\" for i in tree_.feature ]\n",
    "\n",
    "    nameSet = set()\n",
    "    for i in tree_.feature :\n",
    "        if i != _tree.TREE_UNDEFINED :\n",
    "            nameSet.add( i )\n",
    "    nameList = list( nameSet )\n",
    "    parameter_list = list()\n",
    "    for i in nameList :\n",
    "        parameter_list.append( varNames[i] )\n",
    "    return parameter_list\n",
    "\n",
    "# Get ensemble tree variables for RF\n",
    "def getEnsembleTreeVars( ENSTREE, varNames ) :\n",
    "    importance = ENSTREE.feature_importances_\n",
    "    index = np.argsort(importance)\n",
    "    theList = []\n",
    "    for i in index :\n",
    "        imp_val = importance[i]\n",
    "        if imp_val > np.average( ENSTREE.feature_importances_ ) :\n",
    "            v = int( imp_val / np.max( ENSTREE.feature_importances_ ) * 100 )\n",
    "            theList.append( ( varNames[i], v ) )\n",
    "    theList = sorted(theList,key=itemgetter(1),reverse=True)\n",
    "    return theList"
   ]
  },
  {
   "cell_type": "markdown",
   "metadata": {},
   "source": [
    "#### Decision Tree"
   ]
  },
  {
   "cell_type": "code",
   "execution_count": 23,
   "metadata": {},
   "outputs": [
    {
     "data": {
      "image/png": "[encoded data removed]",
      "text/plain": [
       "<Figure size 432x288 with 1 Axes>"
      ]
     },
     "metadata": {
      "needs_background": "light"
     },
     "output_type": "display_data"
    },
    {
     "name": "stdout",
     "output_type": "stream",
     "text": [
      "TREE CLASSIFICATION ACCURACY\n",
      "======\n",
      "TREE_Train  =  0.8726929530201343\n",
      "TREE  =  0.8515100671140939\n",
      "------\n",
      "\n",
      "\n"
     ]
    }
   ],
   "source": [
    "# Default PROBABILITY\n",
    "\n",
    "WHO = \"TREE\"\n",
    "\n",
    "CLM = tree.DecisionTreeClassifier( max_depth=4 )\n",
    "CLM = CLM.fit( X_train, Y_train[ TARGET_F ] )\n",
    "\n",
    "TRAIN_CLM = getProbAccuracyScores( WHO + \"_Train\", CLM, X_train, Y_train[ TARGET_F ] )\n",
    "TEST_CLM = getProbAccuracyScores( WHO, CLM, X_test, Y_test[ TARGET_F ] )\n",
    "\n",
    "print_ROC_Curve( WHO, [ TRAIN_CLM, TEST_CLM ] ) \n",
    "print_Accuracy( WHO + \" CLASSIFICATION ACCURACY\", [ TRAIN_CLM, TEST_CLM ] )\n",
    "\n",
    "feature_cols = list( X.columns.values )\n",
    "tree.export_graphviz(CLM,out_file='tree_f.txt',filled=True, rounded=True, feature_names = feature_cols, impurity=False, class_names=[\"Good\",\"Bad\"]  )\n",
    "vars_tree_flag = getTreeVars( CLM, feature_cols ) "
   ]
  },
  {
   "cell_type": "code",
   "execution_count": 24,
   "metadata": {},
   "outputs": [],
   "source": [
    "for i in X.columns:\n",
    "    if X[i].isna().sum() > 0 : print(i)"
   ]
  },
  {
   "cell_type": "code",
   "execution_count": 25,
   "metadata": {},
   "outputs": [
    {
     "name": "stdout",
     "output_type": "stream",
     "text": [
      "TREE RMSE ACCURACY\n",
      "======\n",
      "TREE_Train  =  4603.091178678556\n",
      "TREE  =  5770.601714157058\n",
      "------\n",
      "\n",
      "\n"
     ]
    }
   ],
   "source": [
    "# Default amount\n",
    "\n",
    "AMT = tree.DecisionTreeRegressor( max_depth= 4 )\n",
    "AMT = AMT.fit( W_train, Z_train[TARGET_A] )\n",
    "\n",
    "TRAIN_AMT = getAmtAccuracyScores( WHO + \"_Train\", AMT, W_train, Z_train[TARGET_A] )\n",
    "TEST_AMT = getAmtAccuracyScores( WHO, AMT, W_test, Z_test[TARGET_A] )\n",
    "print_Accuracy( WHO + \" RMSE ACCURACY\", [ TRAIN_AMT, TEST_AMT ] )\n",
    "\n",
    "feature_cols = list( X.columns.values )\n",
    "vars_tree_amt = getTreeVars( AMT, feature_cols ) \n",
    "tree.export_graphviz(AMT,out_file='tree_a.txt',filled=True, rounded=True, feature_names = feature_cols, impurity=False, precision=0  )\n",
    "\n",
    "\n",
    "TREE_CLM = TEST_CLM.copy()\n",
    "TREE_AMT = TEST_AMT.copy()"
   ]
  },
  {
   "cell_type": "markdown",
   "metadata": {},
   "source": [
    "#### Random Forest"
   ]
  },
  {
   "cell_type": "code",
   "execution_count": 26,
   "metadata": {},
   "outputs": [
    {
     "data": {
      "image/png": "[encoded data removed]",
      "text/plain": [
       "<Figure size 432x288 with 1 Axes>"
      ]
     },
     "metadata": {
      "needs_background": "light"
     },
     "output_type": "display_data"
    },
    {
     "name": "stdout",
     "output_type": "stream",
     "text": [
      "RF CLASSIFICATION ACCURACY\n",
      "======\n",
      "RF_Train  =  1.0\n",
      "RF  =  0.927013422818792\n",
      "------\n",
      "\n",
      "\n"
     ]
    }
   ],
   "source": [
    "WHO = \"RF\"\n",
    "\n",
    "CLM = RandomForestClassifier( n_estimators=145, random_state=1 )\n",
    "CLM = CLM.fit( X_train, Y_train[ TARGET_F ] )\n",
    "\n",
    "TRAIN_CLM = getProbAccuracyScores( WHO + \"_Train\", CLM, X_train, Y_train[ TARGET_F ] )\n",
    "TEST_CLM = getProbAccuracyScores( WHO, CLM, X_test, Y_test[ TARGET_F ] )\n",
    "\n",
    "print_ROC_Curve( WHO, [ TRAIN_CLM, TEST_CLM ] ) \n",
    "print_Accuracy( WHO + \" CLASSIFICATION ACCURACY\", [ TRAIN_CLM, TEST_CLM ] )\n",
    "\n",
    "feature_cols = list( X.columns.values )\n",
    "vars_RF_flag = getEnsembleTreeVars( CLM, feature_cols )"
   ]
  },
  {
   "cell_type": "code",
   "execution_count": 27,
   "metadata": {},
   "outputs": [
    {
     "name": "stdout",
     "output_type": "stream",
     "text": [
      "RF RMSE ACCURACY\n",
      "======\n",
      "RF_Train  =  1382.964459193578\n",
      "RF  =  3770.8264515729347\n",
      "------\n",
      "\n",
      "\n"
     ]
    }
   ],
   "source": [
    "# Default Amount\n",
    "\n",
    "AMT = RandomForestRegressor(n_estimators = 145, random_state=1)\n",
    "AMT = AMT.fit( W_train, Z_train[TARGET_A] )\n",
    "\n",
    "TRAIN_AMT = getAmtAccuracyScores( WHO + \"_Train\", AMT, W_train, Z_train[TARGET_A] )\n",
    "TEST_AMT = getAmtAccuracyScores( WHO, AMT, W_test, Z_test[TARGET_A] )\n",
    "print_Accuracy( WHO + \" RMSE ACCURACY\", [ TRAIN_AMT, TEST_AMT ] )\n",
    "\n",
    "feature_cols = list( X.columns.values )\n",
    "vars_RF_amt = getEnsembleTreeVars( AMT, feature_cols )\n",
    "\n",
    "##for i in vars_RF_amt :\n",
    "##    print( i )\n",
    "\n",
    "RF_CLM = TEST_CLM.copy()\n",
    "RF_AMT = TEST_AMT.copy()"
   ]
  },
  {
   "cell_type": "markdown",
   "metadata": {},
   "source": [
    "#### Gradient Boosting"
   ]
  },
  {
   "cell_type": "code",
   "execution_count": 28,
   "metadata": {},
   "outputs": [
    {
     "data": {
      "image/png": "[encoded data removed]",
      "text/plain": [
       "<Figure size 432x288 with 1 Axes>"
      ]
     },
     "metadata": {
      "needs_background": "light"
     },
     "output_type": "display_data"
    },
    {
     "name": "stdout",
     "output_type": "stream",
     "text": [
      "GB CLASSIFICATION ACCURACY\n",
      "======\n",
      "GB_Train  =  0.9609899328859061\n",
      "GB  =  0.9060402684563759\n",
      "------\n",
      "\n",
      "\n"
     ]
    }
   ],
   "source": [
    "WHO = \"GB\"\n",
    "\n",
    "CLM = GradientBoostingClassifier(n_estimators=305, random_state=1 )\n",
    "CLM = CLM.fit( X_train, Y_train[ TARGET_F ] )\n",
    "\n",
    "TRAIN_CLM = getProbAccuracyScores( WHO + \"_Train\", CLM, X_train, Y_train[ TARGET_F ] )\n",
    "TEST_CLM = getProbAccuracyScores( WHO, CLM, X_test, Y_test[ TARGET_F ] )\n",
    "\n",
    "print_ROC_Curve( WHO, [ TRAIN_CLM, TEST_CLM ] ) \n",
    "print_Accuracy( WHO + \" CLASSIFICATION ACCURACY\", [ TRAIN_CLM, TEST_CLM ] )\n",
    "\n",
    "\n",
    "feature_cols = list( X.columns.values )\n",
    "vars_GB_flag = getEnsembleTreeVars( CLM, feature_cols )"
   ]
  },
  {
   "cell_type": "code",
   "execution_count": 29,
   "metadata": {},
   "outputs": [
    {
     "name": "stdout",
     "output_type": "stream",
     "text": [
      "GB RMSE ACCURACY\n",
      "======\n",
      "GB_Train  =  1397.895815964368\n",
      "GB  =  3006.3484671784527\n",
      "------\n",
      "\n",
      "\n"
     ]
    }
   ],
   "source": [
    "# Default Amount\n",
    "\n",
    "AMT = GradientBoostingRegressor(random_state=1)\n",
    "AMT = AMT.fit( W_train, Z_train[TARGET_A] )\n",
    "\n",
    "TRAIN_AMT = getAmtAccuracyScores( WHO + \"_Train\", AMT, W_train, Z_train[TARGET_A] )\n",
    "TEST_AMT = getAmtAccuracyScores( WHO, AMT, W_test, Z_test[TARGET_A] )\n",
    "print_Accuracy( WHO + \" RMSE ACCURACY\", [ TRAIN_AMT, TEST_AMT ] )\n",
    "\n",
    "feature_cols = list( X.columns.values )\n",
    "vars_GB_amt = getEnsembleTreeVars( AMT, feature_cols )\n",
    "\n",
    "##for i in vars_RF_amt :\n",
    "##    print( i )\n",
    "\n",
    "GB_CLM = TEST_CLM.copy()\n",
    "GB_AMT = TEST_AMT.copy()"
   ]
  },
  {
   "cell_type": "markdown",
   "metadata": {},
   "source": [
    "# Now that we have the variables we will build Linear and Logistic Regression Models"
   ]
  },
  {
   "cell_type": "code",
   "execution_count": 30,
   "metadata": {},
   "outputs": [],
   "source": [
    "# The below functions will be used for the linear and logistic regression models to get the coefficients\n",
    "\n",
    "\n",
    "def getCoefLogit( MODEL, TRAIN_DATA ) :\n",
    "    varNames = list( TRAIN_DATA.columns.values )\n",
    "    coef_dict = {}\n",
    "    coef_dict[\"INTERCEPT\"] = MODEL.intercept_[0]\n",
    "    for coef, feat in zip(MODEL.coef_[0],varNames):\n",
    "        coef_dict[feat] = coef\n",
    "    print(\"\\nDefault\")\n",
    "    print(\"---------\")\n",
    "    print(\"Total Variables: \", len( coef_dict ) )\n",
    "    for i in coef_dict :\n",
    "        print( i, \" = \", coef_dict[i]  )\n",
    "\n",
    "\n",
    "\n",
    "def getCoefLinear( MODEL, TRAIN_DATA ) :\n",
    "    varNames = list( TRAIN_DATA.columns.values )\n",
    "    coef_dict = {}\n",
    "    coef_dict[\"INTERCEPT\"] = MODEL.intercept_\n",
    "    for coef, feat in zip(MODEL.coef_,varNames):\n",
    "        coef_dict[feat] = coef\n",
    "    print(\"\\nAmount\")\n",
    "    print(\"---------\")\n",
    "    print(\"Total Variables: \", len( coef_dict ) )\n",
    "    for i in coef_dict :\n",
    "        print( i, \" = \", coef_dict[i]  )"
   ]
  },
  {
   "cell_type": "markdown",
   "metadata": {},
   "source": [
    "## First model will leverage all variables"
   ]
  },
  {
   "cell_type": "markdown",
   "metadata": {},
   "source": [
    "#### Logistic"
   ]
  },
  {
   "cell_type": "code",
   "execution_count": 31,
   "metadata": {},
   "outputs": [
    {
     "data": {
      "image/png": "[encoded data removed]",
      "text/plain": [
       "<Figure size 432x288 with 1 Axes>"
      ]
     },
     "metadata": {
      "needs_background": "light"
     },
     "output_type": "display_data"
    },
    {
     "name": "stdout",
     "output_type": "stream",
     "text": [
      "REG_ALL CLASSIFICATION ACCURACY\n",
      "======\n",
      "REG_ALL_Train  =  0.8475251677852349\n",
      "REG_ALL  =  0.8162751677852349\n",
      "------\n",
      "\n",
      "\n"
     ]
    }
   ],
   "source": [
    "WHO = \"REG_ALL\"\n",
    "\n",
    "CLM = LogisticRegression( solver='newton-cg', max_iter=1000 )\n",
    "CLM = CLM.fit( X_train, Y_train[ TARGET_F ] )\n",
    "\n",
    "TRAIN_CLM = getProbAccuracyScores( WHO + \"_Train\", CLM, X_train, Y_train[ TARGET_F ] )\n",
    "TEST_CLM = getProbAccuracyScores( WHO, CLM, X_test, Y_test[ TARGET_F ] )\n",
    "\n",
    "print_ROC_Curve( WHO, [ TRAIN_CLM, TEST_CLM ] ) \n",
    "print_Accuracy( WHO + \" CLASSIFICATION ACCURACY\", [ TRAIN_CLM, TEST_CLM ] )"
   ]
  },
  {
   "cell_type": "markdown",
   "metadata": {},
   "source": [
    "#### Linear"
   ]
  },
  {
   "cell_type": "code",
   "execution_count": 32,
   "metadata": {},
   "outputs": [
    {
     "name": "stdout",
     "output_type": "stream",
     "text": [
      "REG_ALL RMSE ACCURACY\n",
      "======\n",
      "REG_ALL_Train  =  4311.306992349995\n",
      "REG_ALL  =  4561.9550473980025\n",
      "------\n",
      "\n",
      "\n",
      "\n",
      "Default\n",
      "---------\n",
      "Total Variables:  38\n",
      "INTERCEPT  =  -2.418835227473071\n",
      "z_REASON_DebtCon  =  -0.514116660747376\n",
      "z_REASON_HomeImp  =  -0.23501713228384413\n",
      "z_JOB_Mgr  =  0.5320529776071231\n",
      "z_JOB_Office  =  -0.13108304446211952\n",
      "z_JOB_Other  =  0.5469126721915706\n",
      "z_JOB_ProfExe  =  0.4544730216768988\n",
      "z_JOB_Sales  =  1.3601911472594679\n",
      "z_JOB_Self  =  0.9303644687548721\n",
      "O_LOAN  =  -0.09818545946089585\n",
      "TRUNC_LOAN  =  -1.8584292995305803e-05\n",
      "O_MORTDUE  =  -0.21436730314781163\n",
      "O_VALUE  =  0.6713535651926101\n",
      "O_YOJ  =  0.47510581160461207\n",
      "O_DEROG  =  0.19761443328823947\n",
      "O_DELINQ  =  0.9381451599545788\n",
      "O_CLAGE  =  -0.35977749691089833\n",
      "O_NINQ  =  -0.2199859373387901\n",
      "O_CLNO  =  0.33136310635615474\n",
      "O_DEBTINC  =  1.2681878663266306\n",
      "O_IMP_MORTDUE  =  0.2568366725061356\n",
      "TRUNC_IMP_MORTDUE  =  -4.028728136443035e-06\n",
      "O_IMP_VALUE  =  0.6713535651926101\n",
      "TRUNC_IMP_VALUE  =  5.44867611323714e-07\n",
      "O_IMP_YOJ  =  0.44828780191863127\n",
      "TRUNC_IMP_YOJ  =  -0.011171103573798137\n",
      "O_IMP_DEROG  =  0.19761443328823947\n",
      "TRUNC_IMP_DEROG  =  0.7002396689855905\n",
      "O_IMP_DELINQ  =  0.9381451599545788\n",
      "TRUNC_IMP_DELINQ  =  0.7174990013404746\n",
      "O_IMP_CLAGE  =  -0.37293764366221555\n",
      "TRUNC_IMP_CLAGE  =  -0.006011359836773648\n",
      "O_IMP_NINQ  =  -0.2199859373387901\n",
      "TRUNC_IMP_NINQ  =  0.23351281407363592\n",
      "O_IMP_CLNO  =  0.8565286427559207\n",
      "TRUNC_IMP_CLNO  =  -0.016489045115136516\n",
      "O_IMP_DEBTINC  =  1.7510248980018301\n",
      "TRUNC_IMP_DEBTINC  =  0.05939251215142655\n",
      "\n",
      "Amount\n",
      "---------\n",
      "Total Variables:  38\n",
      "INTERCEPT  =  -6746.515977080548\n",
      "z_REASON_DebtCon  =  1561.9209736376308\n",
      "z_REASON_HomeImp  =  123.02273902047332\n",
      "z_JOB_Mgr  =  -2979.742290307175\n",
      "z_JOB_Office  =  -2733.7860733218654\n",
      "z_JOB_Other  =  -2445.8115897491575\n",
      "z_JOB_ProfExe  =  -2308.7840273252928\n",
      "z_JOB_Sales  =  -821.2530127724547\n",
      "z_JOB_Self  =  99.66555805406708\n",
      "O_LOAN  =  9594.389276966072\n",
      "TRUNC_LOAN  =  0.7277117629218406\n",
      "O_MORTDUE  =  -19266.097268866288\n",
      "O_VALUE  =  -4470.446570418923\n",
      "O_YOJ  =  -3448.035737994859\n",
      "O_DEROG  =  622.5901554651484\n",
      "O_DELINQ  =  490.38268212294287\n",
      "O_CLAGE  =  211.11918238416368\n",
      "O_NINQ  =  -436.99490209371254\n",
      "O_CLNO  =  -9235.887615901303\n",
      "O_DEBTINC  =  -1287.1084839062098\n",
      "O_IMP_MORTDUE  =  21824.44180791003\n",
      "TRUNC_IMP_MORTDUE  =  -0.005690657231817795\n",
      "O_IMP_VALUE  =  -4470.446570158898\n",
      "TRUNC_IMP_VALUE  =  0.005897784598192103\n",
      "O_IMP_YOJ  =  -3448.0357377127098\n",
      "TRUNC_IMP_YOJ  =  -46.353344291374235\n",
      "O_IMP_DEROG  =  622.59015516162\n",
      "TRUNC_IMP_DEROG  =  209.73611644175875\n",
      "O_IMP_DELINQ  =  490.3826825743977\n",
      "TRUNC_IMP_DELINQ  =  1067.8970088300018\n",
      "O_IMP_CLAGE  =  211.11918245379033\n",
      "TRUNC_IMP_CLAGE  =  -25.321267938800023\n",
      "O_IMP_NINQ  =  -436.99490151396265\n",
      "TRUNC_IMP_NINQ  =  76.16905075572159\n",
      "O_IMP_CLNO  =  7733.758089074584\n",
      "TRUNC_IMP_CLNO  =  260.60239760877795\n",
      "O_IMP_DEBTINC  =  -3484.3615824704534\n",
      "TRUNC_IMP_DEBTINC  =  180.74464233596402\n"
     ]
    }
   ],
   "source": [
    "AMT = LinearRegression()\n",
    "AMT = AMT.fit( W_train, Z_train[TARGET_A] )\n",
    "\n",
    "TRAIN_AMT = getAmtAccuracyScores( WHO + \"_Train\", AMT, W_train, Z_train[TARGET_A] )\n",
    "TEST_AMT = getAmtAccuracyScores( WHO, AMT, W_test, Z_test[TARGET_A] )\n",
    "print_Accuracy( WHO + \" RMSE ACCURACY\", [ TRAIN_AMT, TEST_AMT ] )\n",
    "\n",
    "\n",
    "varNames = list( X_train.columns.values )\n",
    "\n",
    "REG_ALL_CLM_COEF = getCoefLogit( CLM, X_train )\n",
    "REG_ALL_AMT_COEF = getCoefLinear( AMT, X_train )\n",
    "\n",
    "REG_ALL_CLM = TEST_CLM.copy()\n",
    "REG_ALL_AMT = TEST_AMT.copy()"
   ]
  },
  {
   "cell_type": "markdown",
   "metadata": {},
   "source": [
    "## Variables Selected by the Decision Tree"
   ]
  },
  {
   "cell_type": "markdown",
   "metadata": {},
   "source": [
    "#### Logistic"
   ]
  },
  {
   "cell_type": "code",
   "execution_count": 33,
   "metadata": {},
   "outputs": [
    {
     "data": {
      "image/png": "[encoded data removed]",
      "text/plain": [
       "<Figure size 432x288 with 1 Axes>"
      ]
     },
     "metadata": {
      "needs_background": "light"
     },
     "output_type": "display_data"
    },
    {
     "name": "stdout",
     "output_type": "stream",
     "text": [
      "REG_TREE CLASSIFICATION ACCURACY\n",
      "======\n",
      "REG_TREE_Train  =  0.8330536912751678\n",
      "REG_TREE  =  0.8162751677852349\n",
      "------\n",
      "\n",
      "\n"
     ]
    }
   ],
   "source": [
    "WHO = \"REG_TREE\"\n",
    "\n",
    "CLM = LogisticRegression( solver='newton-cg', max_iter=1000 )\n",
    "CLM = CLM.fit( X_train[vars_tree_flag], Y_train[ TARGET_F ] )\n",
    "\n",
    "TRAIN_CLM = getProbAccuracyScores( WHO + \"_Train\", CLM, X_train[vars_tree_flag], Y_train[ TARGET_F ] )\n",
    "TEST_CLM = getProbAccuracyScores( WHO, CLM, X_test[vars_tree_flag], Y_test[ TARGET_F ] )\n",
    "\n",
    "print_ROC_Curve( WHO, [ TRAIN_CLM, TEST_CLM ] ) \n",
    "print_Accuracy( WHO + \" CLASSIFICATION ACCURACY\", [ TRAIN_CLM, TEST_CLM ] )"
   ]
  },
  {
   "cell_type": "markdown",
   "metadata": {},
   "source": [
    "#### Linear"
   ]
  },
  {
   "cell_type": "code",
   "execution_count": 34,
   "metadata": {},
   "outputs": [
    {
     "name": "stdout",
     "output_type": "stream",
     "text": [
      "REG_TREE RMSE ACCURACY\n",
      "======\n",
      "REG_TREE_Train  =  5040.866153823822\n",
      "REG_TREE  =  5865.435239762463\n",
      "------\n",
      "\n",
      "\n",
      "\n",
      "Default\n",
      "---------\n",
      "Total Variables:  6\n",
      "INTERCEPT  =  -2.9517639314134554\n",
      "TRUNC_IMP_NINQ  =  0.2150286498499407\n",
      "TRUNC_IMP_DEBTINC  =  0.06323995693544353\n",
      "TRUNC_IMP_VALUE  =  -2.305308943669697e-06\n",
      "TRUNC_IMP_DELINQ  =  0.8330806529574075\n",
      "TRUNC_IMP_CLAGE  =  -0.006810169486522394\n",
      "\n",
      "Amount\n",
      "---------\n",
      "Total Variables:  7\n",
      "INTERCEPT  =  -11166.865560159975\n",
      "z_REASON_DebtCon  =  1678.2376860163338\n",
      "TRUNC_IMP_CLNO  =  218.85724988484304\n",
      "TRUNC_IMP_DEBTINC  =  157.357589025509\n",
      "TRUNC_LOAN  =  0.73216009288433\n",
      "TRUNC_IMP_MORTDUE  =  -0.0009630634221308153\n",
      "TRUNC_IMP_DELINQ  =  1049.3434719988672\n"
     ]
    }
   ],
   "source": [
    "AMT = LinearRegression()\n",
    "AMT = AMT.fit( W_train[vars_tree_amt], Z_train[TARGET_A] )\n",
    "\n",
    "TRAIN_AMT = getAmtAccuracyScores( WHO + \"_Train\", AMT, W_train[vars_tree_amt], Z_train[TARGET_A] )\n",
    "TEST_AMT = getAmtAccuracyScores( WHO, AMT, W_test[vars_tree_amt], Z_test[TARGET_A] )\n",
    "print_Accuracy( WHO + \" RMSE ACCURACY\", [ TRAIN_AMT, TEST_AMT ] )\n",
    "\n",
    "\n",
    "varNames = list( X_train.columns.values )\n",
    "\n",
    "REG_TREE_CLM_COEF = getCoefLogit( CLM, X_train[vars_tree_flag] )\n",
    "REG_TREE_AMT_COEF = getCoefLinear( AMT, X_train[vars_tree_amt] )\n",
    "\n",
    "REG_TREE_CLM = TEST_CLM.copy()\n",
    "REG_TREE_AMT = TEST_AMT.copy()"
   ]
  },
  {
   "cell_type": "markdown",
   "metadata": {},
   "source": [
    "## Variables Selected by the Random Forest"
   ]
  },
  {
   "cell_type": "markdown",
   "metadata": {},
   "source": [
    "#### Logistic"
   ]
  },
  {
   "cell_type": "code",
   "execution_count": 35,
   "metadata": {},
   "outputs": [
    {
     "name": "stdout",
     "output_type": "stream",
     "text": [
      "\n",
      "\n",
      "\n",
      "('TRUNC_IMP_DEBTINC', 100)\n",
      "('TRUNC_IMP_CLAGE', 49)\n",
      "('TRUNC_LOAN', 46)\n",
      "('TRUNC_IMP_VALUE', 43)\n",
      "('TRUNC_IMP_MORTDUE', 39)\n",
      "('TRUNC_IMP_CLNO', 39)\n",
      "('TRUNC_IMP_DELINQ', 38)\n",
      "('TRUNC_IMP_YOJ', 30)\n",
      "('TRUNC_IMP_DEROG', 23)\n",
      "('TRUNC_IMP_NINQ', 22)\n",
      "\n",
      "\n",
      "\n",
      "('TRUNC_LOAN', 100)\n",
      "('TRUNC_IMP_CLNO', 13)\n",
      "('TRUNC_IMP_DEBTINC', 9)\n",
      "('TRUNC_IMP_CLAGE', 3)\n"
     ]
    },
    {
     "data": {
      "image/png": "[encoded data removed]",
      "text/plain": [
       "<Figure size 432x288 with 1 Axes>"
      ]
     },
     "metadata": {
      "needs_background": "light"
     },
     "output_type": "display_data"
    },
    {
     "name": "stdout",
     "output_type": "stream",
     "text": [
      "REG_RF CLASSIFICATION ACCURACY\n",
      "======\n",
      "REG_RF_Train  =  0.8399748322147651\n",
      "REG_RF  =  0.8204697986577181\n",
      "------\n",
      "\n",
      "\n"
     ]
    }
   ],
   "source": [
    "\n",
    "WHO = \"REG_RF\"\n",
    "\n",
    "\n",
    "print(\"\\n\\n\")\n",
    "RF_flag = []\n",
    "for i in vars_RF_flag :\n",
    "    print(i)\n",
    "    theVar = i[0]\n",
    "    RF_flag.append( theVar )\n",
    "\n",
    "print(\"\\n\\n\")\n",
    "RF_amt = []\n",
    "for i in vars_RF_amt :\n",
    "    print(i)\n",
    "    theVar = i[0]\n",
    "    RF_amt.append( theVar )\n",
    "\n",
    "\n",
    "CLM = LogisticRegression( solver='newton-cg', max_iter=1000 )\n",
    "CLM = CLM.fit( X_train[RF_flag], Y_train[ TARGET_F ] )\n",
    "\n",
    "TRAIN_CLM = getProbAccuracyScores( WHO + \"_Train\", CLM, X_train[RF_flag], Y_train[ TARGET_F ] )\n",
    "TEST_CLM = getProbAccuracyScores( WHO, CLM, X_test[RF_flag], Y_test[ TARGET_F ] )\n",
    "\n",
    "print_ROC_Curve( WHO, [ TRAIN_CLM, TEST_CLM ] ) \n",
    "print_Accuracy( WHO + \" CLASSIFICATION ACCURACY\", [ TRAIN_CLM, TEST_CLM ] )"
   ]
  },
  {
   "cell_type": "markdown",
   "metadata": {},
   "source": [
    "#### Linear"
   ]
  },
  {
   "cell_type": "code",
   "execution_count": 36,
   "metadata": {},
   "outputs": [
    {
     "name": "stdout",
     "output_type": "stream",
     "text": [
      "REG_RF RMSE ACCURACY\n",
      "======\n",
      "REG_RF_Train  =  4996.859723021498\n",
      "REG_RF  =  5687.399121822825\n",
      "------\n",
      "\n",
      "\n",
      "\n",
      "Default\n",
      "---------\n",
      "Total Variables:  11\n",
      "INTERCEPT  =  -2.9914943271919068\n",
      "TRUNC_IMP_DEBTINC  =  0.07045817818064438\n",
      "TRUNC_IMP_CLAGE  =  -0.005727582700852873\n",
      "TRUNC_LOAN  =  -1.825757850955077e-05\n",
      "TRUNC_IMP_VALUE  =  2.2553340213993666e-06\n",
      "TRUNC_IMP_MORTDUE  =  -3.2250090301923336e-06\n",
      "TRUNC_IMP_CLNO  =  -0.018060225543754437\n",
      "TRUNC_IMP_DELINQ  =  0.7981872346456573\n",
      "TRUNC_IMP_YOJ  =  -0.006617518538102379\n",
      "TRUNC_IMP_DEROG  =  0.7646759200375735\n",
      "TRUNC_IMP_NINQ  =  0.19573357161018598\n",
      "\n",
      "Amount\n",
      "---------\n",
      "Total Variables:  5\n",
      "INTERCEPT  =  -5724.454099611805\n",
      "TRUNC_LOAN  =  0.7694375551446857\n",
      "TRUNC_IMP_CLNO  =  309.7546662874566\n",
      "TRUNC_IMP_DEBTINC  =  99.00902866731356\n",
      "TRUNC_IMP_CLAGE  =  -25.356816274303533\n"
     ]
    }
   ],
   "source": [
    "AMT = LinearRegression()\n",
    "AMT = AMT.fit( W_train[RF_amt], Z_train[TARGET_A] )\n",
    "\n",
    "TRAIN_AMT = getAmtAccuracyScores( WHO + \"_Train\", AMT, W_train[RF_amt], Z_train[TARGET_A] )\n",
    "TEST_AMT = getAmtAccuracyScores( WHO, AMT, W_test[RF_amt], Z_test[TARGET_A] )\n",
    "print_Accuracy( WHO + \" RMSE ACCURACY\", [ TRAIN_AMT, TEST_AMT ] )\n",
    "\n",
    "\n",
    "REG_RF_CLM_COEF = getCoefLogit( CLM, X_train[RF_flag] )\n",
    "REG_RF_AMT_COEF = getCoefLinear( AMT, X_train[RF_amt] )\n",
    "\n",
    "REG_RF_CLM = TEST_CLM.copy()\n",
    "REG_RF_AMT = TEST_AMT.copy()"
   ]
  },
  {
   "cell_type": "markdown",
   "metadata": {},
   "source": [
    "## Variables Selected by the Gradient Boosting"
   ]
  },
  {
   "cell_type": "markdown",
   "metadata": {},
   "source": [
    "#### Logistic"
   ]
  },
  {
   "cell_type": "code",
   "execution_count": 37,
   "metadata": {},
   "outputs": [
    {
     "name": "stdout",
     "output_type": "stream",
     "text": [
      "\n",
      "\n",
      "\n",
      "('TRUNC_IMP_DEBTINC', 100)\n",
      "('TRUNC_IMP_DELINQ', 26)\n",
      "('TRUNC_IMP_CLAGE', 18)\n",
      "('TRUNC_IMP_VALUE', 12)\n",
      "('TRUNC_IMP_DEROG', 10)\n",
      "('TRUNC_IMP_CLNO', 10)\n",
      "('TRUNC_LOAN', 9)\n",
      "('TRUNC_IMP_MORTDUE', 8)\n",
      "('TRUNC_IMP_YOJ', 7)\n",
      "\n",
      "\n",
      "\n",
      "('TRUNC_LOAN', 100)\n",
      "('TRUNC_IMP_CLNO', 15)\n",
      "('TRUNC_IMP_DEBTINC', 11)\n",
      "('TRUNC_IMP_CLAGE', 4)\n"
     ]
    },
    {
     "data": {
      "image/png": "[encoded data removed]",
      "text/plain": [
       "<Figure size 432x288 with 1 Axes>"
      ]
     },
     "metadata": {
      "needs_background": "light"
     },
     "output_type": "display_data"
    },
    {
     "name": "stdout",
     "output_type": "stream",
     "text": [
      "REG_GB CLASSIFICATION ACCURACY\n",
      "======\n",
      "REG_GB_Train  =  0.8406040268456376\n",
      "REG_GB  =  0.8154362416107382\n",
      "------\n",
      "\n",
      "\n"
     ]
    }
   ],
   "source": [
    "WHO = \"REG_GB\"\n",
    "\n",
    "\n",
    "print(\"\\n\\n\")\n",
    "GB_flag = []\n",
    "for i in vars_GB_flag :\n",
    "    print(i)\n",
    "    theVar = i[0]\n",
    "    GB_flag.append( theVar )\n",
    "\n",
    "print(\"\\n\\n\")\n",
    "GB_amt = []\n",
    "for i in vars_GB_amt :\n",
    "    print(i)\n",
    "    theVar = i[0]\n",
    "    GB_amt.append( theVar )\n",
    "\n",
    "\n",
    "CLM = LogisticRegression( solver='newton-cg', max_iter=1000 )\n",
    "CLM = CLM.fit( X_train[GB_flag], Y_train[ TARGET_F ] )\n",
    "\n",
    "TRAIN_CLM = getProbAccuracyScores( WHO + \"_Train\", CLM, X_train[GB_flag], Y_train[ TARGET_F ] )\n",
    "TEST_CLM = getProbAccuracyScores( WHO, CLM, X_test[GB_flag], Y_test[ TARGET_F ] )\n",
    "\n",
    "print_ROC_Curve( WHO, [ TRAIN_CLM, TEST_CLM ] ) \n",
    "print_Accuracy( WHO + \" CLASSIFICATION ACCURACY\", [ TRAIN_CLM, TEST_CLM ] )"
   ]
  },
  {
   "cell_type": "markdown",
   "metadata": {},
   "source": [
    "#### Linear"
   ]
  },
  {
   "cell_type": "code",
   "execution_count": 38,
   "metadata": {},
   "outputs": [
    {
     "name": "stdout",
     "output_type": "stream",
     "text": [
      "REG_GB RMSE ACCURACY\n",
      "======\n",
      "REG_GB_Train  =  4996.859723021498\n",
      "REG_GB  =  5687.399121822825\n",
      "------\n",
      "\n",
      "\n",
      "\n",
      "Default\n",
      "---------\n",
      "Total Variables:  10\n",
      "INTERCEPT  =  -2.9081673847470784\n",
      "TRUNC_IMP_DEBTINC  =  0.07451009265969581\n",
      "TRUNC_IMP_DELINQ  =  0.7950302983793213\n",
      "TRUNC_IMP_CLAGE  =  -0.006109629469100636\n",
      "TRUNC_IMP_VALUE  =  1.6674740291261645e-06\n",
      "TRUNC_IMP_DEROG  =  0.8135848896737449\n",
      "TRUNC_IMP_CLNO  =  -0.014389393516553047\n",
      "TRUNC_LOAN  =  -1.5036499897923986e-05\n",
      "TRUNC_IMP_MORTDUE  =  -2.9538819419571902e-06\n",
      "TRUNC_IMP_YOJ  =  -0.008747873075336202\n",
      "\n",
      "Amount\n",
      "---------\n",
      "Total Variables:  5\n",
      "INTERCEPT  =  -5724.454099611805\n",
      "TRUNC_LOAN  =  0.7694375551446857\n",
      "TRUNC_IMP_CLNO  =  309.7546662874566\n",
      "TRUNC_IMP_DEBTINC  =  99.00902866731356\n",
      "TRUNC_IMP_CLAGE  =  -25.356816274303533\n"
     ]
    }
   ],
   "source": [
    "AMT = LinearRegression()\n",
    "AMT = AMT.fit( W_train[GB_amt], Z_train[TARGET_A] )\n",
    "\n",
    "TRAIN_AMT = getAmtAccuracyScores( WHO + \"_Train\", AMT, W_train[GB_amt], Z_train[TARGET_A] )\n",
    "TEST_AMT = getAmtAccuracyScores( WHO, AMT, W_test[GB_amt], Z_test[TARGET_A] )\n",
    "print_Accuracy( WHO + \" RMSE ACCURACY\", [ TRAIN_AMT, TEST_AMT ] )\n",
    "\n",
    "REG_GB_CLM_COEF = getCoefLogit( CLM, X_train[GB_flag] )\n",
    "REG_GB_AMT_COEF = getCoefLinear( AMT, X_train[GB_amt] )\n",
    "\n",
    "REG_GB_CLM = TEST_CLM.copy()\n",
    "REG_GB_AMT = TEST_AMT.copy()"
   ]
  },
  {
   "cell_type": "markdown",
   "metadata": {},
   "source": [
    "## Regression Stepwise Selection"
   ]
  },
  {
   "cell_type": "code",
   "execution_count": 39,
   "metadata": {},
   "outputs": [
    {
     "data": {
      "image/png": "[encoded data removed]",
      "text/plain": [
       "<Figure size 432x288 with 1 Axes>"
      ]
     },
     "metadata": {
      "needs_background": "light"
     },
     "output_type": "display_data"
    },
    {
     "name": "stdout",
     "output_type": "stream",
     "text": [
      " ................... \n",
      "argmax\n",
      "feature_names    (0, 1, 3, 4)\n",
      "avg_score            0.832634\n",
      "Name: 4, dtype: object\n",
      " ................... \n",
      "('0', '1', '3', '4')\n",
      "TRUNC_IMP_NINQ\n",
      "TRUNC_IMP_DEBTINC\n",
      "TRUNC_IMP_DELINQ\n",
      "TRUNC_IMP_CLAGE\n"
     ]
    },
    {
     "data": {
      "image/png": "[encoded data removed]",
      "text/plain": [
       "<Figure size 432x288 with 1 Axes>"
      ]
     },
     "metadata": {
      "needs_background": "light"
     },
     "output_type": "display_data"
    },
    {
     "name": "stdout",
     "output_type": "stream",
     "text": [
      " ................... \n",
      "argmax\n",
      "feature_names    (0, 1, 3)\n",
      "avg_score          0.76294\n",
      "Name: 3, dtype: object\n",
      " ................... \n",
      "('0', '1', '3')\n",
      "TRUNC_LOAN\n",
      "TRUNC_IMP_CLNO\n",
      "TRUNC_IMP_CLAGE\n"
     ]
    }
   ],
   "source": [
    "U_train = X_train[ vars_tree_flag ]\n",
    "stepVarNames = list( U_train.columns.values )\n",
    "maxCols = U_train.shape[1]\n",
    "\n",
    "sfs = SFS( LogisticRegression( solver='newton-cg', max_iter=100 ),\n",
    "           k_features=( 1, maxCols ),\n",
    "           forward=True,\n",
    "           floating=False,\n",
    "           cv=3\n",
    "           )\n",
    "sfs.fit(U_train.values, Y_train[ TARGET_F ].values)\n",
    "\n",
    "theFigure = plot_sfs(sfs.get_metric_dict(), kind=None )\n",
    "plt.title('DEFAULT PROBABILITY Sequential Forward Selection (w. StdErr)')\n",
    "plt.grid()\n",
    "plt.show()\n",
    "\n",
    "dfm = pd.DataFrame.from_dict( sfs.get_metric_dict()).T\n",
    "dfm = dfm[ ['feature_names', 'avg_score'] ]\n",
    "dfm.avg_score = dfm.avg_score.astype(float)\n",
    "\n",
    "print(\" ................... \")\n",
    "maxIndex = dfm.avg_score.argmax()\n",
    "print(\"argmax\")\n",
    "print( dfm.iloc[ maxIndex, ] )\n",
    "print(\" ................... \")\n",
    "\n",
    "stepVars = dfm.iloc[ maxIndex, ]\n",
    "stepVars = stepVars.feature_names\n",
    "print( stepVars )\n",
    "\n",
    "finalStepVars = []\n",
    "for i in stepVars :\n",
    "    index = int(i)\n",
    "    try :\n",
    "        theName = stepVarNames[ index ]\n",
    "        finalStepVars.append( theName )\n",
    "    except :\n",
    "        pass\n",
    "\n",
    "for i in finalStepVars :\n",
    "    print(i)\n",
    "\n",
    "U_train = X_train[ finalStepVars ]\n",
    "U_test = X_test[ finalStepVars ]\n",
    "\n",
    "\n",
    "\n",
    "V_train = W_train[ GB_amt ]\n",
    "stepVarNames = list( V_train.columns.values )\n",
    "maxCols = V_train.shape[1]\n",
    "\n",
    "sfs = SFS( LinearRegression(),\n",
    "           k_features=( 1, maxCols ),\n",
    "           forward=True,\n",
    "           floating=False,\n",
    "           scoring = 'r2',\n",
    "           cv=5\n",
    "           )\n",
    "sfs.fit(V_train.values, Z_train[ TARGET_A ].values)\n",
    "\n",
    "theFigure = plot_sfs(sfs.get_metric_dict(), kind=None )\n",
    "plt.title('DEFAULT AMOUNT Sequential Forward Selection (w. StdErr)')\n",
    "plt.grid()\n",
    "plt.show()\n",
    "\n",
    "dfm = pd.DataFrame.from_dict( sfs.get_metric_dict()).T\n",
    "dfm = dfm[ ['feature_names', 'avg_score'] ]\n",
    "dfm.avg_score = dfm.avg_score.astype(float)\n",
    "\n",
    "print(\" ................... \")\n",
    "maxIndex = dfm.avg_score.argmax()\n",
    "print(\"argmax\")\n",
    "print( dfm.iloc[ maxIndex, ] )\n",
    "print(\" ................... \")\n",
    "\n",
    "stepVars = dfm.iloc[ maxIndex, ]\n",
    "stepVars = stepVars.feature_names\n",
    "print( stepVars )\n",
    "\n",
    "finalStepVars = []\n",
    "for i in stepVars :\n",
    "    index = int(i)\n",
    "    try :\n",
    "        theName = stepVarNames[ index ]\n",
    "        finalStepVars.append( theName )\n",
    "    except :\n",
    "        pass\n",
    "\n",
    "for i in finalStepVars :\n",
    "    print(i)\n",
    "\n",
    "V_train = W_train[ finalStepVars ]\n",
    "V_test = W_test[ finalStepVars ]"
   ]
  },
  {
   "cell_type": "code",
   "execution_count": 43,
   "metadata": {},
   "outputs": [
    {
     "data": {
      "image/png": "[encoded data removed]",
      "text/plain": [
       "<Figure size 432x288 with 1 Axes>"
      ]
     },
     "metadata": {
      "needs_background": "light"
     },
     "output_type": "display_data"
    },
    {
     "name": "stdout",
     "output_type": "stream",
     "text": [
      "REG_STEPWISE CLASSIFICATION ACCURACY\n",
      "======\n",
      "REG_STEPWISE_Train  =  0.8326342281879194\n",
      "REG_STEPWISE  =  0.8179530201342282\n",
      "------\n",
      "\n",
      "\n",
      "REG_STEPWISE RMSE ACCURACY\n",
      "======\n",
      "REG_STEPWISE_Train  =  5036.799121185126\n",
      "REG_STEPWISE  =  5760.055039945557\n",
      "------\n",
      "\n",
      "\n",
      "\n",
      "Default\n",
      "---------\n",
      "Total Variables:  5\n",
      "INTERCEPT  =  -3.063970947572953\n",
      "TRUNC_IMP_NINQ  =  0.2152480729224489\n",
      "TRUNC_IMP_DEBTINC  =  0.06155629734398741\n",
      "TRUNC_IMP_DELINQ  =  0.8361349049078596\n",
      "TRUNC_IMP_CLAGE  =  -0.007153101382043059\n",
      "\n",
      "Amount\n",
      "---------\n",
      "Total Variables:  4\n",
      "INTERCEPT  =  -2220.1532114325255\n",
      "TRUNC_LOAN  =  0.7709354550976218\n",
      "TRUNC_IMP_CLNO  =  319.7463105675468\n",
      "TRUNC_IMP_CLAGE  =  -26.59313420314479\n"
     ]
    },
    {
     "data": {
      "image/png": "[encoded data removed]",
      "text/plain": [
       "<Figure size 432x288 with 1 Axes>"
      ]
     },
     "metadata": {
      "needs_background": "light"
     },
     "output_type": "display_data"
    },
    {
     "name": "stdout",
     "output_type": "stream",
     "text": [
      "ALL CLASSIFICATION ACCURACY\n",
      "======\n",
      "RF  =  0.927013422818792\n",
      "GB  =  0.9060402684563759\n",
      "TREE  =  0.8515100671140939\n",
      "REG_RF  =  0.8204697986577181\n",
      "REG_STEPWISE  =  0.8179530201342282\n",
      "REG_ALL  =  0.8162751677852349\n",
      "REG_TREE  =  0.8162751677852349\n",
      "REG_GB  =  0.8154362416107382\n",
      "------\n",
      "\n",
      "\n",
      "ALL DEFAULT MODEL ACCURACY\n",
      "======\n",
      "GB  =  3006.3484671784527\n",
      "RF  =  3770.8264515729347\n",
      "REG_ALL  =  4561.9550473980025\n",
      "REG_RF  =  5687.399121822825\n",
      "REG_GB  =  5687.399121822825\n",
      "REG_STEPWISE  =  5760.055039945557\n",
      "TREE  =  5770.601714157058\n",
      "REG_TREE  =  5865.435239762463\n",
      "------\n",
      "\n",
      "\n"
     ]
    }
   ],
   "source": [
    "WHO = \"REG_STEPWISE\"\n",
    "\n",
    "CLM = LogisticRegression( solver='newton-cg', max_iter=1000 )\n",
    "CLM = CLM.fit( U_train, Y_train[ TARGET_F ] )\n",
    "\n",
    "TRAIN_CLM = getProbAccuracyScores( WHO + \"_Train\", CLM, U_train, Y_train[ TARGET_F ] )\n",
    "TEST_CLM = getProbAccuracyScores( WHO, CLM, U_test, Y_test[ TARGET_F ] )\n",
    "\n",
    "print_ROC_Curve( WHO, [ TRAIN_CLM, TEST_CLM ] ) \n",
    "print_Accuracy( WHO + \" CLASSIFICATION ACCURACY\", [ TRAIN_CLM, TEST_CLM ] )\n",
    "\n",
    "\n",
    "# DAMAGES\n",
    "\n",
    "AMT = LinearRegression()\n",
    "AMT = AMT.fit( V_train, Z_train[TARGET_A] )\n",
    "\n",
    "TRAIN_AMT = getAmtAccuracyScores( WHO + \"_Train\", AMT, V_train, Z_train[TARGET_A] )\n",
    "TEST_AMT = getAmtAccuracyScores( WHO, AMT, V_test, Z_test[TARGET_A] )\n",
    "print_Accuracy( WHO + \" RMSE ACCURACY\", [ TRAIN_AMT, TEST_AMT ] )\n",
    "\n",
    "REG_STEP_CLM_COEF = getCoefLogit( CLM, U_train )\n",
    "REG_STEP_AMT_COEF = getCoefLinear( AMT, V_train )\n",
    "\n",
    "REG_STEP_CLM = TEST_CLM.copy()\n",
    "REG_STEP_AMT = TEST_AMT.copy()\n",
    "\n",
    "\n",
    "\n",
    "\n",
    "\n",
    "\n",
    "# Create a list of models\n",
    "ALL_CLM = [ TREE_CLM, RF_CLM, GB_CLM, REG_ALL_CLM, REG_TREE_CLM, REG_RF_CLM, REG_GB_CLM, REG_STEP_CLM ]\n",
    "\n",
    "# Sort these guys by the fourth element in the list which is AUC\n",
    "# Sort a lists of lists and don't want to go by the first element in the list\n",
    "ALL_CLM = sorted( ALL_CLM, key = lambda x: x[4], reverse=True )\n",
    "print_ROC_Curve( WHO, ALL_CLM ) \n",
    "\n",
    "# get the accuracy of the damages and sort those as well\n",
    "ALL_CLM = sorted( ALL_CLM, key = lambda x: x[1], reverse=True )\n",
    "print_Accuracy( \"ALL CLASSIFICATION ACCURACY\", ALL_CLM )\n",
    "\n",
    "\n",
    "ALL_AMT = [ TREE_AMT, RF_AMT, GB_AMT, REG_ALL_AMT, REG_TREE_AMT, REG_RF_AMT, REG_GB_AMT, REG_STEP_AMT ]\n",
    "ALL_AMT = sorted( ALL_AMT, key = lambda x: x[1] )\n",
    "print_Accuracy( \"ALL DEFAULT MODEL ACCURACY\", ALL_AMT )"
   ]
  },
  {
   "cell_type": "markdown",
   "metadata": {},
   "source": [
    "# Comments on results will be in attached PDF write-up"
   ]
  }
 ],
 "metadata": {
  "kernelspec": {
   "display_name": "Python 3",
   "language": "python",
   "name": "python3"
  },
  "language_info": {
   "codemirror_mode": {
    "name": "ipython",
    "version": 3
   },
   "file_extension": ".py",
   "mimetype": "text/x-python",
   "name": "python",
   "nbconvert_exporter": "python",
   "pygments_lexer": "ipython3",
   "version": "3.6.10"
  }
 },
 "nbformat": 4,
 "nbformat_minor": 2
}
